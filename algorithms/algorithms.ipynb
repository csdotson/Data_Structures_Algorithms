{
 "cells": [
  {
   "cell_type": "markdown",
   "metadata": {},
   "source": [
    "<h1><center>Algorithm: Merge Sort</center></h1>\n",
    "### Motivation:\n",
    "\n",
    "* Good introduction to ***divide and conquer*** techniques\n",
    "* Works recursively by splitting array\n",
    "* Asserting that it works better than insertion sort, selection sort, or bubble sort"
   ]
  },
  {
   "cell_type": "markdown",
   "metadata": {},
   "source": [
    "### Big-picture Example:\n",
    "* **Input:** Array of n numbers, sorted\n",
    "\n",
    "* **Output:** Same numbers, sorted in increasing order"
   ]
  },
  {
   "cell_type": "markdown",
   "metadata": {},
   "source": [
    "![Merge Sort Example](images/merge_sort_1.png)"
   ]
  },
  {
   "cell_type": "markdown",
   "metadata": {},
   "source": [
    "***\n",
    "## Pseudocode for Merge\n",
    "***Motivation***: Pseudocode for merger portion of merge sort - ignoring recursive portion"
   ]
  },
  {
   "cell_type": "code",
   "execution_count": null,
   "metadata": {},
   "outputs": [],
   "source": [
    "C = output [length = n]  \n",
    "A = 1st sorted array [n/2]  \n",
    "B = 2nd sorted array [n/2]  \n",
    "i, j = 0,0"
   ]
  },
  {
   "cell_type": "code",
   "execution_count": null,
   "metadata": {},
   "outputs": [],
   "source": [
    "for k = 1 to n:  \n",
    "    if A(i) < B(j):  \n",
    "        C(k) = A(i)  \n",
    "        i++\n",
    "    else: #B(j) < A(i)\n",
    "        C(k) = B(j)\n",
    "        j++"
   ]
  },
  {
   "cell_type": "markdown",
   "metadata": {},
   "source": [
    "**Note**: This ignores end cases (what happens if subarrays are different lengths, for example"
   ]
  },
  {
   "cell_type": "markdown",
   "metadata": {},
   "source": [
    "***\n",
    "## Real Code for Merge Sort\n",
    "***Motivation***: Python implementation of recursive merge sort\n",
    "\n",
    "### Merge Sort Algorithm:"
   ]
  },
  {
   "cell_type": "code",
   "execution_count": 1,
   "metadata": {},
   "outputs": [],
   "source": [
    "def merge_sort(alist):\n",
    "    if len(alist) <= 1:\n",
    "        return alist\n",
    "\n",
    "    mid = len(alist)//2\n",
    "    return merge(merge_sort(alist[:mid]), merge_sort(alist[mid:]))\n",
    "\n",
    "def merge(L1, L2):\n",
    "    i, j, Output = 0, 0, []\n",
    "\n",
    "    while i < len(L1) and j < len(L2):\n",
    "        if L1[i] < L2[j]:\n",
    "            Output.append(L1[i]) \n",
    "            i += 1\n",
    "        else:\n",
    "            Output.append(L2[j])\n",
    "            j += 1\n",
    "\n",
    "    Output += L1[i:]\n",
    "    Output += L2[j:]\n",
    "\n",
    "    return Output"
   ]
  },
  {
   "cell_type": "code",
   "execution_count": 2,
   "metadata": {},
   "outputs": [
    {
     "data": {
      "text/plain": [
       "[1, 2, 3, 4, 5, 6, 7, 8, 9]"
      ]
     },
     "execution_count": 2,
     "metadata": {},
     "output_type": "execute_result"
    }
   ],
   "source": [
    "alist = [8, 1, 7, 2, 6, 3, 5, 4, 9]\n",
    "merge_sort(alist)"
   ]
  },
  {
   "cell_type": "markdown",
   "metadata": {},
   "source": [
    "***\n",
    "## Merge Sort Running Time Analysis\n",
    "***Motivation***: Running time of merge sort on an array of *n* numbers\n",
    "\n",
    "\n",
    "### Merge Step\n",
    "\n",
    "1. From psudeocode above, each pass through the `for` loop has roughly 6 operations\n",
    "\n",
    "2. The `for` loop will execute *n* times (where *n* is the length of the array)\n",
    "\n",
    "\n",
    "* **Upshot**: Total number of operations is *6n*\n",
    "\n",
    "\n",
    "\n",
    "### Recursive Steps\n",
    "\n",
    "1. The depth of the recursion tree is $log_2n+1$   \n",
    "    ***Note***: This is the number of levels. There is the initial case *n* followed by $\\log_2n$ recurses\n",
    "\n",
    "\n",
    "2. At each level of the recursion tree there are $2^j$ subproblems each with size $n / 2^j$ \n",
    "\n",
    "\n",
    "3. Total operations per level: $$2^j * 6(n/2^j) => 6n$$\n",
    "\n",
    "\n",
    "4. Total operations overall is then (worst-case):\n",
    "\n",
    "$$6n(log_2n +1) => 6n log_2 n + 6n => O(n log_2 n)$$"
   ]
  },
  {
   "cell_type": "markdown",
   "metadata": {},
   "source": [
    "***\n",
    "## Guiding Principles for Algorithm Analysis\n",
    "\n",
    "### 1) Worst-case Analysis\n",
    "***Idea***: Our running time bound holds for every input of length *n*\n",
    "\n",
    "* This is particularly appropriate for \"general-pupose\" routines\n",
    "\n",
    "\n",
    "### 2) Lower-order Terms\n",
    "***Idea***: We won't pay much attention to constant factors and lower order terms\n",
    "\n",
    "\n",
    "**Justifications**:\n",
    "1. It's just easier says Tim\n",
    "2. Constants depend greatly on architecture - compiler/programmer/etc\n",
    "3. Lose very little predictive power\n",
    "\n",
    "\n",
    "### 3) Asymptotic Analysis\n",
    "***Idea***: Focus on running time for large input sizes n - reaching an asymptotic value\n",
    "\n",
    "**Example**: \n",
    "* $6n log_2n + 6n$ is \"better than\" $1/2 n^2$ - but really, it's only better for sufficiently large *n*\n",
    "\n",
    "\n",
    "* At smaller values of *n*, it really doesn't matter what algorithm you use\n",
    "\n",
    "### What's the goal?\n",
    "***Holy Grail***: Linear running time or something close to it (i.e. $O(n)$)"
   ]
  },
  {
   "cell_type": "markdown",
   "metadata": {},
   "source": [
    "***\n",
    "# <center>Concept: Asymptotic Analysis (\"Big-Oh\")</center>\n",
    "\n",
    "### Motivation\n",
    "\n",
    "1. Vocabulary for the design and analysis of algorithms  \n",
    "    * \"Big-oh\" notation\n",
    "    \n",
    "    \n",
    "2. \"Sweet spot\" for high-level reasoning about algorithms\n",
    "\n",
    "\n",
    "3. *Coarse* enough to suppress architecture/language/compiler-dependent details.\n",
    "\n",
    "\n",
    "4. *Sharp* enough to make useful comparisons between different algorithms, especially on large inputs (e.g. sorting functions, or integer multiplication)\n",
    "\n",
    "\n",
    "**High-level Idea**: Suppress constant factors and lower-order terms\n",
    "\n",
    "***\n",
    "### Example (from previous)\n",
    "We can equate the following:\n",
    "\n",
    "$$6n log_2n + 6n => n log  n$$\n",
    "\n",
    "Meaning the running time is \n",
    "\n",
    "$$O(n log  n)$$\n",
    "\n",
    "\n"
   ]
  },
  {
   "cell_type": "markdown",
   "metadata": {},
   "source": [
    "***\n",
    "## Asymptotic Analysis Examples\n",
    "\n",
    "### Example 1 - One Loop"
   ]
  },
  {
   "cell_type": "code",
   "execution_count": null,
   "metadata": {},
   "outputs": [],
   "source": [
    "# Given 1 array A\n",
    "for i in range(len(A)):\n",
    "    if A[i] == t:\n",
    "        # do something"
   ]
  },
  {
   "cell_type": "markdown",
   "metadata": {},
   "source": [
    "***Maximum number or lines run***: n\n",
    "\n",
    "***Analysis***: $O(n)$ - linear time"
   ]
  },
  {
   "cell_type": "markdown",
   "metadata": {},
   "source": [
    "### Example 2 - Two Loops"
   ]
  },
  {
   "cell_type": "code",
   "execution_count": null,
   "metadata": {},
   "outputs": [],
   "source": [
    "# Give 2 arrays A, length n and B, length m\n",
    "for i in range(len(A)):\n",
    "    if A[i] == t:\n",
    "        # do something \n",
    "        \n",
    "for i in range(len(B)):\n",
    "    if B[i] == t:\n",
    "        # do something else"
   ]
  },
  {
   "cell_type": "markdown",
   "metadata": {},
   "source": [
    "***Maximum number or lines run***: n*m\n",
    "\n",
    "***Analysis***: $O(nm) => O(n)$ - linear time"
   ]
  },
  {
   "cell_type": "markdown",
   "metadata": {},
   "source": [
    "### Example 3 - Two Nested Loops"
   ]
  },
  {
   "cell_type": "code",
   "execution_count": null,
   "metadata": {},
   "outputs": [],
   "source": [
    "# Given arrays A and B of length n\n",
    "for i = 1 to n:\n",
    "    for j = 1 to n:\n",
    "        if A[i] == A[j] return True\n",
    "return False"
   ]
  },
  {
   "cell_type": "markdown",
   "metadata": {},
   "source": [
    "***Maximum number or lines run***: $n^2$\n",
    "\n",
    "***Analysis***: $O(n^2)$ - quadratic time"
   ]
  },
  {
   "cell_type": "markdown",
   "metadata": {},
   "source": [
    "### Example - Two Nested Loops (II)"
   ]
  },
  {
   "cell_type": "code",
   "execution_count": null,
   "metadata": {},
   "outputs": [],
   "source": [
    "# Given an array A of length n\n",
    "for i = 1 to n:\n",
    "    for j = i + l to n:\n",
    "        if A[i] == A[j] return True\n",
    "return False"
   ]
  },
  {
   "cell_type": "markdown",
   "metadata": {},
   "source": [
    "***Maximum number or lines run***: $1/2 *n(n - 1)$\n",
    "\n",
    "***Analysis***: $O(n^2)$ - quadratic time (ignoring constants/lower-order terms)"
   ]
  },
  {
   "cell_type": "markdown",
   "metadata": {},
   "source": [
    "***\n",
    "## Big-Oh Notation\n",
    "<br></br>\n",
    "***English Definition***\n",
    " * **Q**: When is $T(n) = O(f(n))$\n",
    " \n",
    " * **A**: If, eventually (for sufficiently large n), $T(n)$ is bounded above by a constant multiple of $f(n)$\n",
    " \n",
    "<br></br>\n",
    " ***Formal Definition***: $T(n) = O(f(n))$ if and only if there exist constants $c, n_0 > 0$ such that:\n",
    " \n",
    " $$T(n) <= c * f(n)$$ for all $$n >= n_0$$\n",
    " \n",
    "**Note**: $c, n_0$ cannot depend on n\n",
    " \n",
    "**Another Note**: To prove a function is $O(f(n))$ ***all*** you need to do is find a single case of c and $n_0$ that satisfies the requirements"
   ]
  },
  {
   "cell_type": "markdown",
   "metadata": {},
   "source": [
    "***\n",
    "## Big-Oh Runtime Comparison"
   ]
  },
  {
   "cell_type": "code",
   "execution_count": 19,
   "metadata": {},
   "outputs": [],
   "source": [
    "import matplotlib.pyplot as plt\n",
    "import numpy as np"
   ]
  },
  {
   "cell_type": "code",
   "execution_count": 20,
   "metadata": {},
   "outputs": [
    {
     "data": {
      "image/png": "[encoded data removed]",
      "text/plain": [
       "<Figure size 432x288 with 1 Axes>"
      ]
     },
     "metadata": {},
     "output_type": "display_data"
    }
   ],
   "source": [
    "n = np.array(range(1, 25))\n",
    "plt.plot(n, np.log(n), c='green')\n",
    "plt.plot(n, n, c='yellow')\n",
    "plt.plot(n, n*(np.log(n)), c='red')\n",
    "plt.plot(n, n**2, c='blue')\n",
    "plt.xlabel('Size of input (n)', fontsize=12)\n",
    "plt.ylabel('Number of operations', fontsize=12)\n",
    "plt.legend(['$\\mathcal{O}(\\log n)$', '$\\mathcal{O}(n)$', '$\\mathcal{O}(n \\log n)$', '$\\mathcal{O}(n^2)$', ], loc='best', fontsize=14);"
   ]
  },
  {
   "cell_type": "markdown",
   "metadata": {},
   "source": [
    "***\n",
    "# <center>Concept: Divide and Conquer</center>\n",
    "<center>***Canonical Example***: Merge sort (see above)</center>\n",
    "\n",
    "### Steps Involved\n",
    "1. **Divide** problem into smaller subproblems\n",
    "\n",
    "\n",
    "2. **Conquer** via set of recursive calls\n",
    "\n",
    "\n",
    "3. **Combine** solutions of subproblems into one for the original problem"
   ]
  },
  {
   "cell_type": "markdown",
   "metadata": {},
   "source": [
    "***\n",
    "## The Problem: Counting Inversions\n",
    "\n",
    "***Motivation***: Given an array containing n number in some arbitrary order, the number of ***inversions*** = the number of pairs $(i, j)$ of array indices with $i < j$ and $A[i] > A[j]$\n",
    "\n",
    "* ***Why do we care?***: Inversions can be used to get a similarity score between two lists - fewer inversions indicates a better match\n",
    "\n",
    "\n",
    "**Example**: Given array [1, 3, 5, 2, 4, 6]\n",
    "\n",
    "* **Inversions**: (3,2), (5, 2), (5, 4)\n",
    "\n",
    "\n",
    "### High-Level Algorithm:"
   ]
  },
  {
   "cell_type": "code",
   "execution_count": null,
   "metadata": {},
   "outputs": [],
   "source": [
    "Sort_and_Count (array A, length n)\n",
    "if n = 1, return 0\n",
    "else: \n",
    "    B, x = Sort_and_Count (1st half of A, n/2)\n",
    "    C, y = Sort_and_Count (2nd hald of A, n/2)\n",
    "    D, z = Merge_and_CountSplitInv (A, n)  # Still need to implement\n",
    "    \n",
    "return x + y + z"
   ]
  },
  {
   "cell_type": "markdown",
   "metadata": {},
   "source": [
    "***Goal***: Implement CountSplitInv in linear $O(n)$ time => Then, Count will run in $O(n*log(n))$ time\n",
    "\n",
    "\n",
    "***Key Idea:*** Have recursive calls *both* count and sort"
   ]
  },
  {
   "cell_type": "markdown",
   "metadata": {},
   "source": [
    "### Psuedo-code for Merge:"
   ]
  },
  {
   "cell_type": "code",
   "execution_count": null,
   "metadata": {},
   "outputs": [],
   "source": [
    "D = output [length = n]  \n",
    "B = 1st sorted array [n/2]  \n",
    "C = 2nd sorted array [n/2]  \n",
    "i, j = 0, 0\n",
    "\n",
    "for k = 1 to n:\n",
    "    if B(i) < C(j):\n",
    "        D(k) = B(i)\n",
    "        i++       \n",
    "    else: # C(j) < B(i)\n",
    "        D(k) = C(j)\n",
    "        j++"
   ]
  },
  {
   "cell_type": "markdown",
   "metadata": {},
   "source": [
    "### Example:"
   ]
  },
  {
   "cell_type": "code",
   "execution_count": null,
   "metadata": {},
   "outputs": [],
   "source": [
    "Consider merging [1, 3, 5] and [2, 4, 6]\n",
    "\n",
    "Output [1, 2]\n",
    "\n",
    "... when 2 is copied to output, discover split inversion (3, 2) and (5, 2)\n",
    "\n",
    "Output [1, 2, 3, 4]\n",
    "\n",
    "... when 4 is copied to output, we discover split inversion (5, 4)"
   ]
  },
  {
   "cell_type": "markdown",
   "metadata": {},
   "source": [
    "***General Claim***: The split inversions involving an element *y* of the 2nd array *C* are precisely the numbers left in the 1st array *B* when *y* is copied to the output *D*\n",
    "\n",
    "### Proof:\n",
    "\n",
    "***Statement:*** Let x be an element of the 1st array B\n",
    "\n",
    "1. If x copied to the out D bfore y, then x < y => No inversion involving x & y\n",
    "\n",
    "\n",
    "2. If y copied to the output D before x, then y < x => x & y are a split inversion"
   ]
  },
  {
   "cell_type": "markdown",
   "metadata": {},
   "source": [
    "### Pseudo-code for Merge_and_CountSplitInv:"
   ]
  },
  {
   "cell_type": "code",
   "execution_count": null,
   "metadata": {},
   "outputs": [],
   "source": [
    "1) While merging two sorted subarrays, keep running total of number of\n",
    "split inversions\n",
    "\n",
    "2) When element of 2nd array C gets copied to output D, increment count by\n",
    "number of elements remaining in 1st array"
   ]
  },
  {
   "cell_type": "markdown",
   "metadata": {},
   "source": [
    "***\n",
    "## Real Code for Counting Inversions\n",
    "\n",
    "***Motivation***: Python implementation for counting inversions\n",
    "\n",
    "### Counting Inversions Algorithm:"
   ]
  },
  {
   "cell_type": "code",
   "execution_count": 21,
   "metadata": {},
   "outputs": [],
   "source": [
    "inversion_count = 0\n",
    "\n",
    "def sort_and_count(A):\n",
    "    if len(A) <= 1:\n",
    "        return A\n",
    "    \n",
    "    mid = len(A)//2\n",
    "    return merge_and_count_split_inv(sort_and_count(A[:mid]), sort_and_count(A[mid:]))\n",
    "\n",
    "def merge_and_count_split_inv(B, C):\n",
    "    global inversion_count\n",
    "    i, j = 0, 0\n",
    "    Output = []\n",
    "\n",
    "    while i < len(B) and j < len(C):\n",
    "        if B[i] < C[j]:\n",
    "            Output.append(B[i])\n",
    "            i += 1\n",
    "        else: # C[j] < B[i]\n",
    "            Output.append(C[j])\n",
    "            j += 1\n",
    "            inversion_count += (len(B) - i) \n",
    "\n",
    "    Output += B[i:]\n",
    "    Output += C[j:]\n",
    "\n",
    "    return Output"
   ]
  },
  {
   "cell_type": "code",
   "execution_count": 22,
   "metadata": {},
   "outputs": [
    {
     "data": {
      "text/plain": [
       "[1, 2, 3, 4, 5, 6]"
      ]
     },
     "execution_count": 22,
     "metadata": {},
     "output_type": "execute_result"
    }
   ],
   "source": [
    "A = [1, 3, 5, 2, 4, 6]\n",
    "sort_and_count(a)"
   ]
  },
  {
   "cell_type": "code",
   "execution_count": 23,
   "metadata": {},
   "outputs": [
    {
     "data": {
      "text/plain": [
       "3"
      ]
     },
     "execution_count": 23,
     "metadata": {},
     "output_type": "execute_result"
    }
   ],
   "source": [
    "inversion_count"
   ]
  },
  {
   "cell_type": "markdown",
   "metadata": {},
   "source": [
    "***\n",
    "# <center>Concept: The Master Method</center>\n",
    "\n",
    "***Idea***: General mathematical tool for analyzing the running time of algorithms\n",
    "\n",
    "### Motivating Example\n",
    "* From Karatsuba Multiplication...\n",
    "\n",
    "\n",
    "$$ x * y = 10^n(ac) + 10^{n/2}(ad+bc) + bd $$\n",
    "\n",
    "* Computing 4 products, recursively... ***Master Method*** derivation to follow..."
   ]
  },
  {
   "cell_type": "markdown",
   "metadata": {},
   "source": [
    "***\n",
    "## Recurrences (Examples)\n",
    "\n",
    "$T(n)$ = The maximum number of operations this algorithm needs to multiply two n-digit numbers (worst-case # operations)\n",
    "\n",
    "* ***Recurence***: Express T(n) in terms for running time of recrusive calls"
   ]
  },
  {
   "cell_type": "markdown",
   "metadata": {},
   "source": [
    "### 1) Simple Recursive Multiplication (4 recursive calls)\n",
    "\n",
    "1. **Base Case**: $T(1)$ <= a constant\n",
    "\n",
    "\n",
    "2. **General Case**: For all n > 1, $T(n) <= 4T(n/2) + O(n)$\n",
    "    * First Term: Work done by recursive calls\n",
    "    * Second Term: Work done outside of recursive calls"
   ]
  },
  {
   "cell_type": "markdown",
   "metadata": {},
   "source": [
    "### 2) Gauss' Recursive Multiplication (3 Recursive calls)\n",
    "\n",
    "* **Algorithm**: Recursively compute *ac, bd, (a+b)(c+d)*. Recall...\n",
    "\n",
    "$$ ad + bc = (a+b)(c+d) = ac - bd $$\n",
    "\n",
    "\n",
    "* **Recurence**\n",
    "\n",
    "    1. ***Base Case***: $T(1)$ <= constant\n",
    "    \n",
    "    2. ***General Case***: $T(n) <= 3T^{n/2} + O(n)$"
   ]
  },
  {
   "cell_type": "markdown",
   "metadata": {},
   "source": [
    "***\n",
    "## The Master Method\n",
    "\n",
    "***Cool Feature***: A \"black box\" for solving recurrences\n",
    "\n",
    "* ***Assumption:*** All subproblems have equal size (say n/2 for example)"
   ]
  },
  {
   "cell_type": "markdown",
   "metadata": {},
   "source": [
    "### Recurrence Format\n",
    "\n",
    "1. ***Base Case***: For all problems we're going to look at, the base case can be thought of as:\n",
    "\n",
    "$$ T(n) <= constant $$\n",
    "\n",
    "\n",
    "2. ***For all larger n***:\n",
    "\n",
    "$$ T(n) <= aT^{n/b} + O(n^d) $$\n",
    "\n",
    "a = number of recursive calls (>= 1)  \n",
    "b = input size shrinkage factor (> 1)   \n",
    "d = exponent in running time of \"combine step\" (>= 0)  \n",
    "\n",
    "***Note***:  a, b, d are all independent of n"
   ]
  },
  {
   "cell_type": "markdown",
   "metadata": {},
   "source": [
    "### Formal Statement of Master Method"
   ]
  },
  {
   "cell_type": "code",
   "execution_count": null,
   "metadata": {},
   "outputs": [],
   "source": [
    "        O(n^d log n)  if a = b^d\n",
    "\n",
    "T(n) =  O(n^d)        if a < b^d \n",
    "     \n",
    "        O(n^log_b(a))  if a > b^d"
   ]
  },
  {
   "cell_type": "markdown",
   "metadata": {},
   "source": [
    "***\n",
    "## Master Method Examples\n",
    "\n",
    "### **1)  Merge Sort**"
   ]
  },
  {
   "cell_type": "code",
   "execution_count": null,
   "metadata": {},
   "outputs": [],
   "source": [
    "a = 2\n",
    "b = 2   =>  b^d = 2  =>  Case 2\n",
    "d = 1\n",
    "\n",
    "T(n) <= O(n^d log n) = O(n log n)"
   ]
  },
  {
   "cell_type": "markdown",
   "metadata": {},
   "source": [
    "### 2) Binary Search"
   ]
  },
  {
   "cell_type": "code",
   "execution_count": null,
   "metadata": {},
   "outputs": [],
   "source": [
    "a = 1\n",
    "b = 2  =>  b^d = 1  =>  Case 1  \n",
    "d = 0\n",
    "\n",
    "T(n) <= O(n^d log n) = O(log n)"
   ]
  },
  {
   "cell_type": "markdown",
   "metadata": {},
   "source": [
    "### 3) Integer Multiplication (Non-Gauss)"
   ]
  },
  {
   "cell_type": "code",
   "execution_count": null,
   "metadata": {},
   "outputs": [],
   "source": [
    "a = 4\n",
    "b = 2  =>  b^d = 2  =>  a > b^d  =>  Case 3\n",
    "d = 1\n",
    "\n",
    "T(n) <= O(n^logb(a)) = O(n^log_2(4)) = O(n^2)"
   ]
  },
  {
   "cell_type": "markdown",
   "metadata": {},
   "source": [
    "### 4) Integer Multiplication (Gauss' Trick)"
   ]
  },
  {
   "cell_type": "code",
   "execution_count": null,
   "metadata": {},
   "outputs": [],
   "source": [
    "a = 3\n",
    "b = 2  =>  b^d = 2  =>  a > b^d  =>  Case 3  \n",
    "d = 1\n",
    "\n",
    "T(n) <= O(n^logb(a)) = O(n^log_2(3)) = O(n^1.58)"
   ]
  },
  {
   "cell_type": "markdown",
   "metadata": {},
   "source": [
    "### 5) Strassen's Matrix Multiplication"
   ]
  },
  {
   "cell_type": "code",
   "execution_count": null,
   "metadata": {},
   "outputs": [],
   "source": [
    "a = 7\n",
    "b = 2\n",
    "d = 2 (number of dimemsions of matrix)\n",
    "\n",
    "b^d = 4 < a  =>  Case 3\n",
    "\n",
    "T(n) <= O(n log_2(7)) = O(n^2.81)"
   ]
  },
  {
   "cell_type": "markdown",
   "metadata": {},
   "source": [
    "### 6) Fictitious Recurrence"
   ]
  },
  {
   "cell_type": "code",
   "execution_count": null,
   "metadata": {},
   "outputs": [],
   "source": [
    "T(n) <= 2T(n/2) + O(n^2)\n",
    "\n",
    "a = 2\n",
    "b = 2\n",
    "d = 2\n",
    "\n",
    "b^d = 4 > a  =>  Case 2\n",
    "\n",
    "T(n) = O(n^2)"
   ]
  },
  {
   "cell_type": "markdown",
   "metadata": {},
   "source": [
    "***\n",
    "## Proof of Master Method\n",
    "\n",
    "* ***Motivation***: Conceptual proof of Master Method - focusing on how recursion trees give us intutition into determining run time"
   ]
  },
  {
   "cell_type": "markdown",
   "metadata": {},
   "source": [
    "### Work at a Single level:\n",
    "\n",
    "1. **Total work at level j** (ignoring work in recursive calls)\n",
    "\n",
    "$$ <= a^j * c * [n/b^j]^d = cn^d * [a/b^d]^j$$\n",
    " * $ a^j $ = # of level-j subproblems  \n",
    " * $ c * [n/b^j]^d $ = size of each level-j subproblem\n",
    "\n",
    "\n",
    "2. **Summing over all levels** (j = 0,1,2 ... $log_b (n)$). Total work is...\n",
    "\n",
    "$$ <= cn^d * \\sum_{j=0}^{log_b(n)} [a/b^d]^j$$"
   ]
  },
  {
   "cell_type": "markdown",
   "metadata": {},
   "source": [
    "***\n",
    "# <center>Algorithm: QuickSort</center>\n",
    "\n",
    "***Motivation***\n",
    "* Very prevalent in practice\n",
    "* Runs in $ O(n log(n)) $ time\n",
    "* Requires minimal extra memory"
   ]
  },
  {
   "cell_type": "markdown",
   "metadata": {},
   "source": [
    "***\n",
    "## The Sorting Problem\n",
    "\n",
    "**Input:** Array of n numbers, unsorted\n",
    "\n",
    "\n",
    "**Output:** Same numbers, sorted in increasing order\n",
    "\n",
    "**Assumption:** All array entries are distinct"
   ]
  },
  {
   "cell_type": "markdown",
   "metadata": {},
   "source": [
    "***\n",
    "## Partitioning Around a Pivot\n",
    "\n",
    "***Key Idea:*** Partitioning an array around a pivot element\n",
    "\n",
    "1. Pick an element of the array to act as *pivot*\n",
    "\n",
    "\n",
    "2. Rearrange the array so that:\n",
    "\n",
    "    * Left of the pivot - Less than pivot   \n",
    "    * Right of the pivot - Greater than pivot  \n",
    "    \n",
    "\n",
    "***Note***: Once array is arranged around the pivot, the pivot will be in its 'rightful position'"
   ]
  },
  {
   "cell_type": "code",
   "execution_count": null,
   "metadata": {},
   "outputs": [],
   "source": [
    "A = [3, 8, 2, 5, 1, 4, 7, 6] -> Choose 3 as pivot...\n",
    "\n",
    "A = [2, 1, *3*, 6, 7, 4, 5, 8]"
   ]
  },
  {
   "cell_type": "markdown",
   "metadata": {},
   "source": [
    "### Why Use Partitioning?\n",
    "\n",
    "1. Partitioning can be implemented in linear $O(n)$ time - also requires no extra memory allocation (more to come on that later)\n",
    "\n",
    "\n",
    "2. Reduced problem size - lends itself to divide & conquer"
   ]
  },
  {
   "cell_type": "markdown",
   "metadata": {},
   "source": [
    "***\n",
    "## Quicksort: High-Level Description"
   ]
  },
  {
   "cell_type": "code",
   "execution_count": null,
   "metadata": {},
   "outputs": [],
   "source": [
    "QuickSort(array A, length n)\n",
    "    if n = 1, return\n",
    "\n",
    "    p = ChoosePivot(A, n)  # Currently unimplemented\n",
    "    \n",
    "    Partition A aroud p  -->   < p, p, > p\n",
    "    \n",
    "    Call QuickSort again to recursively sort 1st and 2nd parts"
   ]
  },
  {
   "cell_type": "markdown",
   "metadata": {},
   "source": [
    "***\n",
    "## Partitioning Subroutine\n",
    "\n",
    "***Assume***: pivot = 1st element of the array. If not first element, swap pivot <-> 1st element as preprocessing step\n",
    "\n",
    "### High-Level Idea"
   ]
  },
  {
   "cell_type": "code",
   "execution_count": null,
   "metadata": {},
   "outputs": [],
   "source": [
    "| p |  <p   |  >p   |     ?       |    p = partition\n",
    "\n",
    "- Everything looked at so far is partitioned\n",
    "- Everything we have not looked at is not partitioned"
   ]
  },
  {
   "cell_type": "markdown",
   "metadata": {},
   "source": [
    "### Example"
   ]
  },
  {
   "cell_type": "code",
   "execution_count": null,
   "metadata": {},
   "outputs": [],
   "source": [
    "| p |  <p   |  >p   |     ?       |    p = partition\n",
    "\n",
    "            i       j\n",
    "    \n",
    "i: boundary between >/< pivot\n",
    "j: boundary between partitioned/unpartitioned"
   ]
  },
  {
   "cell_type": "markdown",
   "metadata": {},
   "source": [
    "### Pseudocode"
   ]
  },
  {
   "cell_type": "code",
   "execution_count": null,
   "metadata": {},
   "outputs": [],
   "source": [
    "Partition(A, l, r)     input = A[l .... r]\n",
    "\n",
    "p = A[l]\n",
    "i = l+1\n",
    "\n",
    "for j = l+1 to r:\n",
    "    if A[j] < p:  # Note if A[j] > p, do nothing (don't need to swap)\n",
    "        Swap A[j] and A[i]\n",
    "        i++"
   ]
  },
  {
   "cell_type": "markdown",
   "metadata": {},
   "source": [
    "### Running Time\n",
    "\n",
    "**Running Time** = $O(n)$ where $n = r - l + 1\n",
    "\n",
    "* Reason - $O(1)$ work per array entry\n",
    "\n",
    "**Also**: Clearly works in place (repeated swaps)"
   ]
  },
  {
   "cell_type": "markdown",
   "metadata": {},
   "source": [
    "***\n",
    "## Choose Pivot Subroutine\n",
    "\n",
    "***The Importance of the Pivot***\n",
    "\n",
    "* The runtime depends crucially on the quality of the pivot chosen\n",
    "\n",
    "    1. Choose the worst pivot - the first element of an ordered list \n",
    "\n",
    "        * Runtime: $O(n^2)$  \n",
    "        \n",
    "    2. Choose the best pivot - the middle-most value of the list  \n",
    "        * Runtime: $O(n log(n))$\n",
    "\n",
    "\n",
    "***Key Question***\n",
    "\n",
    "* How to choose pivots?\n",
    "\n",
    "\n",
    "***Big Idea***\n",
    "\n",
    "* Random pivots!\n",
    "\n",
    "\n",
    "* In every recursive call, <u>choose the pivot randomly</u>"
   ]
  },
  {
   "cell_type": "markdown",
   "metadata": {},
   "source": [
    "***\n",
    "## Analyzing QuickSort\n",
    "\n",
    "***Note***: Can't apply the Master Method - we have random, unbalanced subproblems\n",
    "\n",
    "\n",
    "**Upshot**: See the videos for all the gory details... but, the idea is the running time of Quicksort is dominated by the number of comparisons it makes, yielding an overall running time that is:\n",
    "\n",
    "$$ O(n * log(n)) $$"
   ]
  },
  {
   "cell_type": "markdown",
   "metadata": {},
   "source": [
    "***\n",
    "# <center>Algorithm: Randomized Selection [(QuickSelect)](https://en.wikipedia.org/wiki/Quickselect)</center>\n",
    "\n",
    "### Motivation ###\n",
    "\n",
    "\n",
    "* ***Input***: Array A with n distinct numbers and a number i in {1, 2, ..., n}\n",
    "\n",
    "\n",
    "* ***Output***: $i^{th}$ order statistic - that is, the $i^{th}$ smallest element of the input array."
   ]
  },
  {
   "cell_type": "markdown",
   "metadata": {},
   "source": [
    "**Reduction to Sorting** - We already have a good way to solve this in $O(n * log(n))$ time...\n",
    "\n",
    "1. Apply MergeSort  \n",
    "2. Return $i^{th}$ element of the array  \n",
    "3. Done!\n",
    "\n",
    "\n",
    "**Fact**: We want a linear time $O(n)$ solution, ***but*** sorting can't be done any faster the quadratic time, so MergeSort isn't going to get us there..."
   ]
  },
  {
   "cell_type": "markdown",
   "metadata": {},
   "source": [
    "***\n",
    "## The Selection Problem - Using Pivots\n",
    "\n",
    "***<u>Motivation</u>***: Just as in Quicksort, we'll use a partitioning subroutine to order the array."
   ]
  },
  {
   "cell_type": "markdown",
   "metadata": {},
   "source": [
    "### Psuedo-code "
   ]
  },
  {
   "cell_type": "code",
   "execution_count": null,
   "metadata": {},
   "outputs": [],
   "source": [
    "RSelect(array A, length n, order_statistic i):\n",
    "    1. if n = 1 return A[1]\n",
    "\n",
    "    2. choose pivot p from A uniformly at random\n",
    "    \n",
    "    3. partition around p\n",
    "       let j = new index of p\n",
    "\n",
    "    4. if j == i, return p # Got lucky and choose the ith element\n",
    "\n",
    "    5. if j > i return RSelect(1st part of A, j - 1, i)\n",
    "\n",
    "    6. if j < i return RSelect(2nd part of A, n-j, i-j)    "
   ]
  },
  {
   "cell_type": "markdown",
   "metadata": {},
   "source": [
    "### Real Code for RSelect"
   ]
  },
  {
   "cell_type": "code",
   "execution_count": 24,
   "metadata": {},
   "outputs": [],
   "source": [
    "import random\n",
    "\n",
    "def quick_select(A, left, right, i):\n",
    "    if right - left <= 1:\n",
    "        return A[left]\n",
    "\n",
    "    pivot_location = partition(A, left, right)\n",
    "    if pivot_location == i:\n",
    "        return A[pivot_location]\n",
    "    if pivot_location > i:\n",
    "        return quick_select(A, left, pivot_location, i)\n",
    "    if pivot_location < i:\n",
    "        return quick_select(A, pivot_location+1, right, i - pivot_location)\n",
    "\n",
    "def partition(A, left, right):\n",
    "    rand_index = random.randint(left, right-1)\n",
    "    pivot = A[rand_index]\n",
    "    swap(A, left, rand_index)\n",
    "\n",
    "    i = left + 1\n",
    "    for j in range(i, right):\n",
    "        if A[j] < pivot:\n",
    "            swap(A, i, j)\n",
    "            i += 1\n",
    "    \n",
    "    swap(A, left, i-1)\n",
    "    return i-1\n",
    "\n",
    "\n",
    "def swap(A, first, second):\n",
    "    A[first], A[second] = A[second], A[first]"
   ]
  },
  {
   "cell_type": "code",
   "execution_count": 25,
   "metadata": {},
   "outputs": [
    {
     "data": {
      "text/plain": [
       "17"
      ]
     },
     "execution_count": 25,
     "metadata": {},
     "output_type": "execute_result"
    }
   ],
   "source": [
    "A = [18, 20, 17, 5, 16]\n",
    "quick_select(A, 0, len(A), 2)"
   ]
  },
  {
   "cell_type": "markdown",
   "metadata": {},
   "source": [
    "***\n",
    "## Properties of Rselect\n",
    "\n",
    "* **<u>Claim</u>**: RSelect is correct (guaranteed to output $i^{th}$ order statistic) - proof by induction if you're keen\n",
    "\n",
    "\n",
    "* **<u>Running Time</u>**: How quickly will this run?\n",
    "\n",
    "    * The worst-case (highly unlikely): $O(n^2)$\n",
    "\n",
    "    * Depends on which pivot gets chosen"
   ]
  },
  {
   "cell_type": "markdown",
   "metadata": {},
   "source": [
    "### Best Case Running Time\n",
    "\n",
    "* ***<u>Key</u>***: Find the pivot giving the most balanced split\n",
    "\n",
    "\n",
    "* ***<u>Best Pivot?</u>***: The median!!"
   ]
  },
  {
   "cell_type": "code",
   "execution_count": null,
   "metadata": {},
   "outputs": [],
   "source": [
    "Would get recurrence of:\n",
    "\n",
    "T(n) <= T(n/2) + O(n)  ==>  T(n) = (n)  ==>  Case 2 of the Master Method"
   ]
  },
  {
   "cell_type": "markdown",
   "metadata": {},
   "source": [
    "### The Hope...\n",
    "\n",
    "* **<u>RSelect Theorem</u>**: For every input array of length n, the average running time of RSelect is $O(n)$\n",
    "\n",
    "    - Holds for every input\n",
    "    \n",
    "    - \"average\" is over random pivot choices made by the algorithm"
   ]
  },
  {
   "cell_type": "markdown",
   "metadata": {},
   "source": [
    "***\n",
    "# <center>Data Structure: Graph</center>\n",
    "\n",
    "\n",
    "***<u>Definition</u>:*** Represents pair-wise relationships between objects\n",
    "\n",
    "\n",
    "### Two Ingredients:\n",
    "\n",
    "1. **Vertices (V)** - also known as nodes\n",
    "\n",
    "2. **Edges (E)** - pairs of edges\n",
    "\n",
    "\n",
    "### Types of Graphs\n",
    "\n",
    "1. **Undirected** - unordered pairs\n",
    "\n",
    "2. **Directed** - ordered pairs... there's a first, etc...\n",
    "\n",
    "\n",
    "### Examples - why use Graphs?\n",
    "\n",
    "1. **Road networks** - manipulates data stored as a graph to give best route\n",
    "\n",
    "2. **The web** - vertices are webpages, edges are hyperlinks. Directed graph.\n",
    "\n",
    "3. **Social Networks** - vertices are individuals, edges are relationships. Some networks are directed, others not.\n",
    "\n",
    "4. **Precedence constraints** - Course sequences, which preceeds what - captures temporal aspect of putting together a course plan."
   ]
  },
  {
   "cell_type": "markdown",
   "metadata": {},
   "source": [
    "***\n",
    "## Cuts of Graphs\n",
    "\n",
    "***<u>Definition</u>***: A cut of a graph (V, E) is a partition of V into two non-empty sets, A and B.\n",
    "\n",
    "* **Note**: There are $2^n$ ways to cut a group of *n* nodes\n",
    "\n",
    "\n",
    "### What are we interested in?\n",
    "\n",
    "***<u>Crossing Edges</u>***: The crossing edges of a cut (A, B) are those with...\n",
    "\n",
    "1. One endpoint in each of A, B (if undirected)\n",
    "2. Tail in A, head in B (for directed cuts) - *only* counting edges that go from left to right\n",
    "\n",
    "\n",
    "### The Minimum Cut Problem\n",
    "\n",
    "***<u>Input</u>***: An undirected graph G = (V, E) - Parallel edges area allowed\n",
    "\n",
    "\n",
    "***<u>Goal</u>***: Compute a cut with the fewest number of crossing edges (a min cut) \n",
    "\n",
    "\n",
    "### Applications of Min Cut\n",
    "\n",
    "1. Identify weaknesses/bottlenecks in a network\n",
    "2. Community detection in social networks - Looking for interconnected regions that are strongly connected amongst themselves, but weakly connected outside of that.\n",
    "3. Image segmentation - Input is a graph of pixels; using edge weigthing to identify primary objects in a picture"
   ]
  },
  {
   "cell_type": "markdown",
   "metadata": {},
   "source": [
    "***\n",
    "## Graph Representations\n",
    "\n",
    "***<u>Notation</u>***: Let n = # of vertices, m = # of edges\n",
    "\n",
    "1. The fewest number of edges, m, is $n - 1$\n",
    "2. The upper bound for number of edges, m, is $n(n-1)/2$\n",
    "\n",
    "\n",
    "### Sparse vs Dense Graphs\n",
    "\n",
    "**<u>Sparse</u>**: In a sparse graph, m is O(n) or close to it\n",
    "\n",
    "**<u>Dense</u>**: In a dense graph, m is closer to O(n^2)"
   ]
  },
  {
   "cell_type": "markdown",
   "metadata": {},
   "source": [
    "### The Adjacency Matrix\n",
    "\n",
    "***<u>Definition</u>***: Represent graph by an n x n matrix, A, where $A_{ij} = 1 <=>$ G has an i-j edge\n",
    "\n",
    "***<u>Variants</u>***:\n",
    "\n",
    "1. $A_{ij}$ = # of i-j edges (if parallel edges)\n",
    "2. $A_{ij}$ = *weight* of i-j edge (if any)\n",
    "3. $A_{ij}$ = +1/-1 to denote direction in a directed graph\n",
    "\n",
    "***<u>Space Requirements</u>***\n",
    "\n",
    "* Matrix will require at most $O(n^2)$ space - Note this is fine for a dense graph, but super wasteful for a sparse graph"
   ]
  },
  {
   "cell_type": "markdown",
   "metadata": {},
   "source": [
    "### Adjacency Lists\n",
    "\n",
    "***<u>Ingredients</u>***\n",
    "\n",
    "1. Array of vertices\n",
    "2. Array of edges\n",
    "3. Each edge points to its endpoints\n",
    "4. Each vertex points to edges incident on it\n",
    "\n",
    "***<u>Space Requirements</u>***\n",
    "\n",
    "* The list representation of a graph will use $O(m + n)$ space\n",
    "\n",
    "**List vs Matrix** - Which is better? Depends on graph density and operations needed.\n",
    "\n",
    "* ***This course*** - We'll focus on adjacency lists. Better for *graph search*"
   ]
  },
  {
   "cell_type": "markdown",
   "metadata": {},
   "source": [
    "### Upshot\n",
    "\n",
    "* If looking at huge data sets, an *adjacency matrix* might require more space than can reasonably be allocationed $O(n^2)$ - in this case you're pretty much bound to an *adjacency list*"
   ]
  },
  {
   "cell_type": "markdown",
   "metadata": {},
   "source": [
    "***\n",
    "# <center>Algorithm: Random Contraction (Graphs)</center>\n",
    "\n",
    "\n",
    "### Pseudo-code (Basic Idea)"
   ]
  },
  {
   "cell_type": "code",
   "execution_count": null,
   "metadata": {},
   "outputs": [],
   "source": [
    "While there are more than 2 vertices:\n",
    "    \n",
    "    - Pick a remaining edge  (u, v) uniformly at random\n",
    "    \n",
    "    - Merge (or \"contract\") u and v into a single vertex\n",
    "    \n",
    "    - Remove self-loops\n",
    "    \n",
    "Return cut represented by final 2 vertices"
   ]
  },
  {
   "cell_type": "markdown",
   "metadata": {},
   "source": [
    "### Example"
   ]
  },
  {
   "cell_type": "markdown",
   "metadata": {},
   "source": [
    "![Graph Random Contraction](images/graph_random_contraction.png)\n",
    "\n",
    "\n",
    "**Note**: This algorithm is random; it will *not* always give you the exact min cut count. In the above example it did, but won't always..."
   ]
  },
  {
   "cell_type": "markdown",
   "metadata": {},
   "source": [
    "**Question**: What's the probability of success??\n",
    "\n",
    "* Analysis shows the probability of success is $1/n^2$. Wait, what? Isn't that bad?\n",
    "\n",
    "* It is, but... we have a way to improve it.\n",
    "\n",
    "***<u>Solution</u>***: Run the basic algorithm N times and remember the smallest cut found\n",
    "\n",
    "* How many trials are needed?\n",
    "\n",
    "    * A lot - $n^2$\n",
    "    \n",
    "    \n",
    "* Running Time? Overall this method will run in $O(n^2*m)$, but there are things that can be done to reduce it (outside the scope of this class)\n",
    "\n"
   ]
  },
  {
   "cell_type": "markdown",
   "metadata": {},
   "source": [
    "***\n",
    "# <center>Concept: Graph Search</center>\n",
    "\n",
    "***<u>Motivation (Examples)</u>***\n",
    "\n",
    "1. Check if a (physical) **network** is connected - can get to anywhere from anywhere\n",
    "\n",
    "\n",
    "2. **Movie network** - \"Bacon number\" - degrees away from Kevin Bacon\n",
    "\n",
    "\n",
    "3. **Driving Directions** - Shortest path (time or distance)\n",
    "\n",
    "\n",
    "4. **Formulating a plan** - For example, filling in a sedoku puzzle\n",
    "    * Nodes = partially completed puzzle (starting point)\n",
    "    \n",
    "\n",
    "5. **Structure of the web** "
   ]
  },
  {
   "cell_type": "markdown",
   "metadata": {},
   "source": [
    "***\n",
    "## Generic Graph Search\n",
    "\n",
    "***<u>Goals</u>***\n",
    "\n",
    "1. Find everything 'findable' from a given starting vertex\n",
    "\n",
    "2. Don't explore anything twice -> Goal is $O(m + n)$\n",
    "\n",
    "\n",
    "***<u>Generic Algorithm</u>***: Given graph $g$, vertex $s$\n",
    "\n",
    "* Initially s is explored, all other vertices unexplored\n",
    "\n",
    "\n",
    "* *While possible*: \n",
    "    * Choose an edge (u, v) with u explored and v unexplored (if none, halt)\n",
    "    * Mark v as explored\n",
    "    \n",
    "    \n",
    "***<u>Claim</u>***: At the end of the algorithm, v is explored iff G has a path from s to v"
   ]
  },
  {
   "cell_type": "markdown",
   "metadata": {},
   "source": [
    "***\n",
    "## Search Types: Breadth-First or Depth-First\n",
    "\n",
    "***<u>Breadth-First Search (BFS)</u>***\n",
    "* 'Conservative' search - Explore nodes in 'layers'\n",
    "* Can compute shortest paths (using layers)\n",
    "* Can compute connected components of *undirected* graphs\n",
    "* Will use a **queue** (FIFO) to get linear $O(m + n)$ time\n",
    "\n",
    "\n",
    "***<u>Depth-First Search (DFS)</u>***\n",
    "* Explore aggressively like a maze - backtrack only when necessary\n",
    "* Not best for shortest path\n",
    "* Compute topological ordering of a directed acyclic graph\n",
    "* Compute connected components in *directed* graphs\n",
    "* Will use a **stack** (LIFO) to get linear $O(m + n)$ time\n"
   ]
  },
  {
   "cell_type": "markdown",
   "metadata": {},
   "source": [
    "![Graph Search](images/graph_search.png)"
   ]
  },
  {
   "cell_type": "markdown",
   "metadata": {},
   "source": [
    "***\n",
    "# <center>Algorithm: Breadth-First Search</center>\n",
    "\n",
    "***<u>Breadth-First Search (BFS)</u>***\n",
    "* Explore nodes in 'layers'\n",
    "* Great for computing shortest paths\n",
    "* Connected components of undirected graphs\n",
    "\n",
    "***<u>Run Time</u>***: $O(m + n)$ - linear time"
   ]
  },
  {
   "cell_type": "markdown",
   "metadata": {},
   "source": [
    "![BFS](images/bfs.png)"
   ]
  },
  {
   "cell_type": "markdown",
   "metadata": {},
   "source": [
    "## Psudeo-code"
   ]
  },
  {
   "cell_type": "code",
   "execution_count": null,
   "metadata": {},
   "outputs": [],
   "source": [
    "BFS(graph G, starting_vertex s)  # All nodes initially unexplored\n",
    "\n",
    "    - Mark s as explored\n",
    "    \n",
    "    - Let Q = queue data structure (FIFO), initialized with s\n",
    "    \n",
    "    - While Q != empty \n",
    "        Remove the first node of Q, call it v\n",
    "        For each edge (v, w):\n",
    "            if w unexplored:\n",
    "                mark w as explored\n",
    "                add w to Q (at the end)"
   ]
  },
  {
   "cell_type": "markdown",
   "metadata": {},
   "source": [
    "![BFS Code](images/bfs_code.png)\n",
    "\n",
    "\n",
    "***Note***: Using a queue to keep track of nodes visited"
   ]
  },
  {
   "cell_type": "markdown",
   "metadata": {},
   "source": [
    "***<u>Run Time</u>***: Running time of main while loop is $O(n_s + m_s)$\n",
    "\n",
    "* $n_s$ = number of nodes reachable from s\n",
    "* $m_s$ = number of edges reachable from s"
   ]
  },
  {
   "cell_type": "markdown",
   "metadata": {},
   "source": [
    "***\n",
    "## Application:  Shortest Paths\n",
    "\n",
    "***<u>Goal</u>***: Compute dist(v), the fewest # of edges on a path from s to v\n",
    "\n",
    "**<u>Extra Code</u>**"
   ]
  },
  {
   "cell_type": "code",
   "execution_count": null,
   "metadata": {},
   "outputs": [],
   "source": [
    "Initialize dist(v) = 0 if v = s\n",
    "                   = infinity if v != s\n",
    "    \n",
    "When considering edge (v, w):\n",
    "    # Distance is 1 more than the vertex responsible for finding it\n",
    "    if w unexplored, the set dist(w) = dist(v) + 1"
   ]
  },
  {
   "cell_type": "markdown",
   "metadata": {},
   "source": [
    "![BFS Shortest Path](images/bfs_shortest_path.png)\n",
    "\n",
    "**<u>Claim</u>**: At termination, dist(v) = i if and only if v is in the $i^{th}$ layer"
   ]
  },
  {
   "cell_type": "markdown",
   "metadata": {},
   "source": [
    "***\n",
    "## Application:  Undirected Connectivity\n",
    "\n",
    "***<u>Motivation</u>***:  Let G = (V, E) be an undirected graph. Compute all connected components\n",
    "\n",
    "1. Check if a network is disconnected - graph connected or not?\n",
    "2. Graph visualization for network data\n",
    "3. Clustering - grouping similar objects\n",
    "\n",
    "![Undirected Graph](images/undirected_graph.png)\n",
    "\n",
    "\n",
    "***<u>Connected Components</u>***: the 'pieces' of G"
   ]
  },
  {
   "cell_type": "markdown",
   "metadata": {},
   "source": [
    "### To Compute all Components"
   ]
  },
  {
   "cell_type": "code",
   "execution_count": null,
   "metadata": {},
   "outputs": [],
   "source": [
    "Mark all nodes as unexplored - assume nodes labled 1 to n\n",
    "\n",
    "for i = 1 to n:\n",
    "    if i not yet explored:\n",
    "        BFS (G, i)  # Discovers i's connected components"
   ]
  },
  {
   "cell_type": "markdown",
   "metadata": {},
   "source": [
    "***<u>Note</u>***: Finds every connected component\n",
    "\n",
    "***<u>Running Time</u>***: O(m + n)"
   ]
  },
  {
   "cell_type": "markdown",
   "metadata": {},
   "source": [
    "***\n",
    "# <center>Algorithm: Depth-First Search</center>\n",
    "\n",
    "***<u>Depth-First Search (DFS)</u>***\n",
    "* Explore aggressively, only backtrack when necessary\n",
    "* Computes a topological ordering of a directed acyclic graph\n",
    "* Computes strongly connected components of directed graphs\n",
    "\n",
    "***<u>Run Time</u>***: $O(m + n)$ - linear time"
   ]
  },
  {
   "cell_type": "markdown",
   "metadata": {},
   "source": [
    "![DFS](images/dfs.png)"
   ]
  },
  {
   "cell_type": "markdown",
   "metadata": {},
   "source": [
    "## Psuedo-code\n",
    "\n",
    "***<u>Exercise</u>***: Mimic BFS code, use a stack instead of a queue (plus other minor modifications)\n",
    "\n",
    "**<u>Recursive Version</u>**"
   ]
  },
  {
   "cell_type": "code",
   "execution_count": null,
   "metadata": {},
   "outputs": [],
   "source": [
    "DFS(graph G, start_vertex s)\n",
    "\n",
    "    mark s as exploredkos\n",
    "    \n",
    "    for every edge (s, v):\n",
    "        if v unexplored:\n",
    "            DFS(G, v)"
   ]
  },
  {
   "cell_type": "markdown",
   "metadata": {},
   "source": [
    "***<u>Run Time</u>***: Running time of main while loop is $O(n_s + m_s)$\n",
    "\n",
    "* $n_s$ = number of nodes reachable from s\n",
    "* $m_s$ = number of edges reachable from s\n",
    "\n",
    "***<u>Note</u>***: Look at each node in connected component of s at most once, each edge at most twice"
   ]
  },
  {
   "cell_type": "markdown",
   "metadata": {},
   "source": [
    "***\n",
    "## Application: Topological Sort\n",
    "\n",
    "***<u>Definition</u>***: A **topological ordering** of a directed graph G is a labelling f of G's nodes such that:\n",
    "\n",
    "1. the f(v)'s are the set of {1, 2, ... ,n}\n",
    "2. (u, v) in set G if and only if f(u) < f(v)\n",
    "\n",
    "![Topo Sort](images/topo_sort.png)\n",
    "\n",
    "\n",
    "***<u>Motivation</u>***: Sequencing tasks while respecting all precedence constraints\n",
    "\n",
    "\n",
    "***<u>Notes</u>*** \n",
    "\n",
    "* If G is a directed cycle, it cannot be topologically sorted\n",
    "\n",
    "* Every directed acyclic graph has a sink vertex"
   ]
  },
  {
   "cell_type": "markdown",
   "metadata": {},
   "source": [
    "### Straight-forward Solution"
   ]
  },
  {
   "cell_type": "code",
   "execution_count": null,
   "metadata": {},
   "outputs": [],
   "source": [
    "Let v be a sink vertex of G\n",
    "set f(v) = n\n",
    "recurse on G - {v}"
   ]
  },
  {
   "cell_type": "markdown",
   "metadata": {},
   "source": [
    "### Topo Sort via DFS (slicker solution)"
   ]
  },
  {
   "cell_type": "code",
   "execution_count": null,
   "metadata": {},
   "outputs": [],
   "source": [
    "DFS(graph G, start_vertex s)\n",
    "\n",
    "    mark s as explored\n",
    "    \n",
    "    for every edge (s, v):\n",
    "        if v unexplored:\n",
    "            DFS(G, v)\n",
    "    \n",
    "    set f(s) = current_label\n",
    "    current_label --\n",
    "\n",
    "\n",
    "DFS_Loop(graph G)\n",
    "\n",
    "    mark all nodes unexplored\n",
    "    \n",
    "    current_label = n # To keep track of ordering\n",
    "    \n",
    "    for each vertex (v in G):\n",
    "        if v unexplored:\n",
    "            DFS(G, v)"
   ]
  },
  {
   "cell_type": "markdown",
   "metadata": {},
   "source": [
    "***<u>Run Time</u>***: O(m + n) --> O(1) time per node, O(1) time per edge"
   ]
  },
  {
   "cell_type": "markdown",
   "metadata": {},
   "source": [
    "***\n",
    "# <center>Algorithm: Strongly Connected Components (Graphs)</center>\n",
    "\n",
    "***<u>Definition</u>***: A **Strongly Connect Component (SCC)** is a connected graph where it's possible to get from any one point to any other point within the graph.\n",
    "\n",
    "\n",
    "***<u>Depth-First Search (DFS)</u>***: If called from the right place, will give you all the SCC's, otherwise, it won't give you any useful info at all. So what do we do? ... \n",
    "\n",
    "\n",
    "![SCC](images/scc.png)\n",
    "\n",
    "***[Kosaraju's Algorithm](https://en.wikipedia.org/wiki/Kosaraju%27s_algorithm)***: This is the algorithm used to compute SCC's\n",
    "\n",
    "![Kosaraju](images/kosaraju.png)"
   ]
  },
  {
   "cell_type": "code",
   "execution_count": null,
   "metadata": {},
   "outputs": [],
   "source": []
  }
 ],
 "metadata": {
  "kernelspec": {
   "display_name": "Python 3",
   "language": "python",
   "name": "python3"
  },
  "language_info": {
   "codemirror_mode": {
    "name": "ipython",
    "version": 3
   },
   "file_extension": ".py",
   "mimetype": "text/x-python",
   "name": "python",
   "nbconvert_exporter": "python",
   "pygments_lexer": "ipython3",
   "version": "3.6.5"
  }
 },
 "nbformat": 4,
 "nbformat_minor": 2
}
