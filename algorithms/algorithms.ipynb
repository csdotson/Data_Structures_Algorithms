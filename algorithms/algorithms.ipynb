{
 "cells": [
  {
   "cell_type": "markdown",
   "metadata": {},
   "source": [
    "<h1><center>Algorithm: Merge Sort</center></h1>\n",
    "### Motivation:\n",
    "\n",
    "* Good introduction to ***divide and conquer*** techniques\n",
    "* Works recursively by splitting array\n",
    "* Asserting that it works better than insertion sort, selection sort, or bubble sort"
   ]
  },
  {
   "cell_type": "markdown",
   "metadata": {},
   "source": [
    "### Big-picture Example:\n",
    "* **Input:** Array of n numbers, sorted\n",
    "\n",
    "* **Output:** Same numbers, sorted in increasing order"
   ]
  },
  {
   "cell_type": "markdown",
   "metadata": {},
   "source": [
    "![Merge Sort Example](images/merge_sort_1.png)"
   ]
  },
  {
   "cell_type": "markdown",
   "metadata": {},
   "source": [
    "***\n",
    "## Pseudocode for Merge\n",
    "***Motivation***: Pseudocode for merger portion of merge sort - ignoring recursive portion"
   ]
  },
  {
   "cell_type": "code",
   "execution_count": null,
   "metadata": {},
   "outputs": [],
   "source": [
    "C = output [length = n]  \n",
    "A = 1st sorted array [n/2]  \n",
    "B = 2nd sorted array [n/2]  \n",
    "i, j = 0,0"
   ]
  },
  {
   "cell_type": "code",
   "execution_count": null,
   "metadata": {},
   "outputs": [],
   "source": [
    "for k = 1 to n:  \n",
    "    if A(i) < B(j):  \n",
    "        C(k) = A(i)  \n",
    "        i++\n",
    "    else: #B(j) < A(i)\n",
    "        C(k) = B(j)\n",
    "        j++"
   ]
  },
  {
   "cell_type": "markdown",
   "metadata": {},
   "source": [
    "**Note**: This ignores end cases (what happens if subarrays are different lengths, for example"
   ]
  },
  {
   "cell_type": "markdown",
   "metadata": {},
   "source": [
    "***\n",
    "## Merge Sort Running Time Analysis\n",
    "***Motivation***: Running time of merge sort on an array of *n* numbers\n",
    "\n",
    "\n",
    "### Merge Step\n",
    "\n",
    "1. From psudeocode above, each pass through the `for` loop has roughly 6 operations\n",
    "\n",
    "2. The `for` loop will execute *n* times (where *n* is the length of the array)\n",
    "\n",
    "\n",
    "* **Upshot**: Total number of operations is *6n*\n",
    "\n",
    "\n",
    "\n",
    "### Recursive Steps\n",
    "\n",
    "1. The depth of the recursion tree is $log_2n+1$   \n",
    "    ***Note***: This is the number of levels. There is the initial case *n* followed by $\\log_2n$ recurses\n",
    "\n",
    "\n",
    "2. At each level of the recursion tree there are $2^j$ subproblems each with size $n / 2^j$ \n",
    "\n",
    "\n",
    "3. Total operations per level: $$2^j * 6(n/2^j) => 6n$$\n",
    "\n",
    "\n",
    "4. Total operations overall is then (worst-case):\n",
    "\n",
    "$$6n(log_2n +1) => 6n log_2 n + 6n$$"
   ]
  },
  {
   "cell_type": "markdown",
   "metadata": {},
   "source": [
    "***\n",
    "## Guiding Principles for Algorithm Analysis\n",
    "\n",
    "### 1) Worst-case Analysis\n",
    "***Idea***: Our running time bound holds for every input of length *n*\n",
    "\n",
    "* This is particularly appropriate for \"general-pupose\" routines\n",
    "\n",
    "\n",
    "### 2) Lower-order Terms\n",
    "***Idea***: We won't pay much attention to constant factors and lower order terms\n",
    "\n",
    "\n",
    "**Justifications**:\n",
    "1. It's just easier says Tim\n",
    "2. Constants depend greatly on architecture - compiler/programmer/etc\n",
    "3. Lose very little predictive power\n",
    "\n",
    "\n",
    "### 3) Asymptotic Analysis\n",
    "***Idea***: Focus on running time for large input sizes n - reaching an asymptotic value\n",
    "\n",
    "**Example**: \n",
    "* $6n log_2n + 6n$ is \"better than\" $1/2 n^2$ - but really, it's only better for sufficiently large *n*\n",
    "\n",
    "\n",
    "* At smaller values of *n*, it really doesn't matter what algorithm you use\n",
    "\n",
    "### What's the goal?\n",
    "***Holy Grail***: Linear running time or something close to it (i.e. $O(n)$)"
   ]
  },
  {
   "cell_type": "markdown",
   "metadata": {},
   "source": [
    "***\n",
    "# <center>Concept: Asymptotic Analysis (\"Big-Oh\")</center>\n",
    "\n",
    "### Motivation\n",
    "\n",
    "1. Vocabulary for the design and analysis of algorithms  \n",
    "    * \"Big-oh\" notation\n",
    "    \n",
    "    \n",
    "2. \"Sweet spot\" for high-level reasoning about algorithms\n",
    "\n",
    "\n",
    "3. *Coarse* enough to suppress architecture/language/compiler-dependent details.\n",
    "\n",
    "\n",
    "4. *Sharp* enough to make useful comparisons between different algorithms, especially on large inputs (e.g. sorting functions, or integer multiplication)\n",
    "\n",
    "\n",
    "**High-level Idea**: Suppress constant factors and lower-order terms\n",
    "\n",
    "***\n",
    "### Example (from previous)\n",
    "We can equate the following:\n",
    "\n",
    "$$6n log_2n + 6n => n log  n$$\n",
    "\n",
    "Meaning the running time is \n",
    "\n",
    "$$O(n log  n)$$\n",
    "\n",
    "\n"
   ]
  },
  {
   "cell_type": "markdown",
   "metadata": {},
   "source": [
    "***\n",
    "## Asymptotic Analysis Examples\n",
    "\n",
    "### Example 1 - One Loop"
   ]
  },
  {
   "cell_type": "code",
   "execution_count": null,
   "metadata": {},
   "outputs": [],
   "source": [
    "# Given 1 array A\n",
    "for i in range(len(A)):\n",
    "    if A[i] == t:\n",
    "        # do something"
   ]
  },
  {
   "cell_type": "markdown",
   "metadata": {},
   "source": [
    "***Maximum number or lines run***: n\n",
    "\n",
    "***Analysis***: $O(n)$ - linear time"
   ]
  },
  {
   "cell_type": "markdown",
   "metadata": {},
   "source": [
    "### Example 2 - Two Loops"
   ]
  },
  {
   "cell_type": "code",
   "execution_count": null,
   "metadata": {},
   "outputs": [],
   "source": [
    "# Give 2 arrays A, length n and B, length m\n",
    "for i in range(len(A)):\n",
    "    if A[i] == t:\n",
    "        # do something \n",
    "        \n",
    "for i in range(len(B)):\n",
    "    if B[i] == t:\n",
    "        # do something else"
   ]
  },
  {
   "cell_type": "markdown",
   "metadata": {},
   "source": [
    "***Maximum number or lines run***: n*m\n",
    "\n",
    "***Analysis***: $O(nm) => O(n)$ - linear time"
   ]
  },
  {
   "cell_type": "markdown",
   "metadata": {},
   "source": [
    "### Example 3 - Two Nested Loops"
   ]
  },
  {
   "cell_type": "code",
   "execution_count": null,
   "metadata": {},
   "outputs": [],
   "source": [
    "# Given arrays A and B of length n\n",
    "for i = 1 to n:\n",
    "    for j = 1 to n:\n",
    "        if A[i] == A[j] return True\n",
    "return False"
   ]
  },
  {
   "cell_type": "markdown",
   "metadata": {},
   "source": [
    "***Maximum number or lines run***: $n^2$\n",
    "\n",
    "***Analysis***: $O(n^2)$ - quadratic time"
   ]
  },
  {
   "cell_type": "markdown",
   "metadata": {},
   "source": [
    "### Example - Two Nested Loops (II)"
   ]
  },
  {
   "cell_type": "code",
   "execution_count": null,
   "metadata": {},
   "outputs": [],
   "source": [
    "# Given an array A of length n\n",
    "for i = 1 to n:\n",
    "    for j = i + l to n:\n",
    "        if A[i] == A[j] return True\n",
    "return False"
   ]
  },
  {
   "cell_type": "markdown",
   "metadata": {},
   "source": [
    "***Maximum number or lines run***: $1/2 *n(n - 1)$\n",
    "\n",
    "***Analysis***: $O(n^2)$ - quadratic time (ignoring constants/lower-order terms)"
   ]
  },
  {
   "cell_type": "markdown",
   "metadata": {},
   "source": [
    "***\n",
    "## Big-Oh Notation\n",
    "<br></br>\n",
    "***English Definition***\n",
    " * **Q**: When is $T(n) = O(f(n))$\n",
    " \n",
    " * **A**: If, eventually (for sufficiently large n), $T(n)$ is bounded above by a constant multiple of $f(n)$\n",
    " \n",
    "<br></br>\n",
    " ***Formal Definition***: $T(n) = O(f(n))$ if and only if there exist constants $c, n_0 > 0$ such that:\n",
    " \n",
    " $$T(n) <= c * f(n)$$ for all $$n >= n_0$$\n",
    " \n",
    "**Note**: $c, n_0$ cannot depend on n\n",
    " \n",
    "**Another Note**: To prove a function is $O(f(n))$ ***all*** you need to do is find a single case of c and $n_0$ that satisfies the requirements"
   ]
  },
  {
   "cell_type": "code",
   "execution_count": null,
   "metadata": {},
   "outputs": [],
   "source": []
  }
 ],
 "metadata": {
  "kernelspec": {
   "display_name": "Python 3",
   "language": "python",
   "name": "python3"
  },
  "language_info": {
   "codemirror_mode": {
    "name": "ipython",
    "version": 3
   },
   "file_extension": ".py",
   "mimetype": "text/x-python",
   "name": "python",
   "nbconvert_exporter": "python",
   "pygments_lexer": "ipython3",
   "version": "3.6.5"
  }
 },
 "nbformat": 4,
 "nbformat_minor": 2
}
